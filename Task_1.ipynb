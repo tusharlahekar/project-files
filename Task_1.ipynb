{
  "nbformat": 4,
  "nbformat_minor": 0,
  "metadata": {
    "colab": {
      "provenance": [],
      "authorship_tag": "ABX9TyMhqQK74se8DcgNz4hxd2Q9",
      "include_colab_link": true
    },
    "kernelspec": {
      "name": "python3",
      "display_name": "Python 3"
    },
    "language_info": {
      "name": "python"
    }
  },
  "cells": [
    {
      "cell_type": "markdown",
      "metadata": {
        "id": "view-in-github",
        "colab_type": "text"
      },
      "source": [
        "<a href=\"https://colab.research.google.com/github/tusharlahekar/project-files/blob/main/Task_1.ipynb\" target=\"_parent\"><img src=\"https://colab.research.google.com/assets/colab-badge.svg\" alt=\"Open In Colab\"/></a>"
      ]
    },
    {
      "cell_type": "code",
      "source": [
        "\n",
        "\n",
        "pip install nltk"
      ],
      "metadata": {
        "colab": {
          "base_uri": "https://localhost:8080/"
        },
        "id": "TpEieO0Fov15",
        "outputId": "a91d4d68-826a-41a1-f134-9c065fd0e7b0"
      },
      "execution_count": 1,
      "outputs": [
        {
          "output_type": "stream",
          "name": "stdout",
          "text": [
            "Requirement already satisfied: nltk in /usr/local/lib/python3.10/dist-packages (3.8.1)\n",
            "Requirement already satisfied: click in /usr/local/lib/python3.10/dist-packages (from nltk) (8.1.7)\n",
            "Requirement already satisfied: joblib in /usr/local/lib/python3.10/dist-packages (from nltk) (1.4.2)\n",
            "Requirement already satisfied: regex>=2021.8.3 in /usr/local/lib/python3.10/dist-packages (from nltk) (2024.5.15)\n",
            "Requirement already satisfied: tqdm in /usr/local/lib/python3.10/dist-packages (from nltk) (4.66.4)\n"
          ]
        }
      ]
    },
    {
      "cell_type": "code",
      "source": [
        "\n",
        "\n",
        "import nltk\n",
        "nltk.download('punkt')\n",
        "nltk.download('wordnet')"
      ],
      "metadata": {
        "colab": {
          "base_uri": "https://localhost:8080/"
        },
        "id": "Wyu48m_no8NH",
        "outputId": "1ba7f682-3a05-4bb4-f668-cceb992ac885"
      },
      "execution_count": 2,
      "outputs": [
        {
          "output_type": "stream",
          "name": "stderr",
          "text": [
            "[nltk_data] Downloading package punkt to /root/nltk_data...\n",
            "[nltk_data]   Unzipping tokenizers/punkt.zip.\n",
            "[nltk_data] Downloading package wordnet to /root/nltk_data...\n"
          ]
        },
        {
          "output_type": "execute_result",
          "data": {
            "text/plain": [
              "True"
            ]
          },
          "metadata": {},
          "execution_count": 2
        }
      ]
    },
    {
      "cell_type": "code",
      "source": [
        "import nltk\n",
        "from nltk.tokenize import word_tokenize\n",
        "from nltk.corpus import wordnet\n",
        "\n",
        "# Function to get synonyms for a word\n",
        "def get_synonyms(word):\n",
        "    synonyms = []\n",
        "    for syn in wordnet.synsets(word):\n",
        "        for lemma in syn.lemmas():\n",
        "            synonyms.append(lemma.name())\n",
        "    return set(synonyms)\n",
        "\n",
        "# Define a simple rule-based response function\n",
        "def respond(user_input):\n",
        "    user_input = user_input.lower()\n",
        "    tokens = word_tokenize(user_input)\n",
        "\n",
        "    if any(word in tokens for word in [\"hi\", \"hello\", \"hey\"]):\n",
        "        return \"Hello! How can I help you today?\"\n",
        "    elif any(word in tokens for word in [\"bye\",\"by\",\"goodbye\", \"see you\"]):\n",
        "        return \"Goodbye! Have a great day!\"\n",
        "    # Check for \"weather\" and \"todays weather\" separately\n",
        "    elif any(word in tokens for word in get_synonyms(\"weather\")) or \\\n",
        "         any(word in tokens for word in get_synonyms(\"todays weather\")): # Split into two calls\n",
        "        return \"The weather is sunny today.\"\n",
        "    elif any(word in tokens for word in get_synonyms(\"name\")):\n",
        "        return \"I am a chatbot created to assist you.\"\n",
        "    elif any(word in tokens for word in get_synonyms(\"help\")):\n",
        "        return \"I'm here to help you. What do you need assistance with?\"\n",
        "    elif any(word in tokens for word in get_synonyms(\" your hobbies?\")):\n",
        "        return \"I am here to assist you\"\n",
        "    else:\n",
        "        return \"I'm sorry, I don't understand that. Can you please rephrase?\"\n",
        "def chatbot():\n",
        "    print(\"Welcome to the rule-based chatbot. Type 'bye' to exit.\")\n",
        "    while True:\n",
        "        user_input = input(\"You: \")\n",
        "        if user_input.lower() in [\"bye\", \"goodbye\", \"exit\"]:\n",
        "            print(\"Bot: Goodbye! Have a great day!\")\n",
        "            break\n",
        "        response = respond(user_input)\n",
        "        print(\"Bot:\", response)\n",
        "\n",
        "# Run the chatbot\n",
        "if __name__ == \"__main__\":\n",
        "    chatbot()\n",
        ""
      ],
      "metadata": {
        "colab": {
          "base_uri": "https://localhost:8080/"
        },
        "id": "uTy_mytno9b-",
        "outputId": "9994b03e-8b56-46e5-ede6-d9539d05ddea"
      },
      "execution_count": 3,
      "outputs": [
        {
          "output_type": "stream",
          "name": "stdout",
          "text": [
            "Welcome to the rule-based chatbot. Type 'bye' to exit.\n",
            "You: hey\n",
            "Bot: Hello! How can I help you today?\n",
            "You: name\n",
            "Bot: I am a chatbot created to assist you.\n",
            "You: by\n",
            "Bot: Goodbye! Have a great day!\n",
            "You: bye\n",
            "Bot: Goodbye! Have a great day!\n"
          ]
        }
      ]
    }
  ]
}